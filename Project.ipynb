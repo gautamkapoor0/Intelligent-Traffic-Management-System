import pandas as pd
import numpy as np
from sklearn.preprocessing import MinMaxScaler
import tensorflow as tf
from tensorflow.keras.models import Sequential
from tensorflow.keras.layers import LSTM, Dense, Dropout
import random
import heapq

# Sample data provided
data = {
    'Date Time': [
        '2015-11-01 00:00:00', '2015-11-01 01:00:00', '2015-11-01 02:00:00',
        '2015-11-01 03:00:00', '2015-11-01 04:00:00', '2015-11-01 05:00:00',
        '2015-11-01 06:00:00', '2015-11-01 07:00:00', '2015-11-01 08:00:00',
        '2015-11-01 09:00:00', '2015-11-01 10:00:00'
    ],
    'Junction': [1]*11,
    'Vehicles': [15, 13, 10, 7, 9, 6, 9, 8, 11, 12, 15],
    'ID': [
        20151101001, 20151101011, 20151101021, 20151101031, 20151101041,
        20151101051, 20151101061, 20151101071, 20151101081, 20151101091, 20151101101
    ]
}

df = pd.DataFrame(data)
df['Date Time'] = pd.to_datetime(df['Date Time'])
df.set_index('Date Time', inplace=True)
target = df['Vehicles']

# Normalize the data
scaler = MinMaxScaler()
target_scaled = scaler.fit_transform(target.values.reshape(-1, 1))

# Create sequences
def create_sequences(data, sequence_length):
    sequences = []
    labels = []
    for i in range(len(data) - sequence_length):
        sequences.append(data[i:i+sequence_length])
        labels.append(data[i+sequence_length])
    return np.array(sequences), np.array(labels)

sequence_length = 3  # Using the last 3 hours to predict the next hour
X, y = create_sequences(target_scaled, sequence_length)
X = X.reshape((X.shape[0], X.shape[1], 1))

# Define the model
model = Sequential()
model.add(LSTM(50, return_sequences=True, input_shape=(X.shape[1], X.shape[2])))
model.add(Dropout(0.2))
model.add(LSTM(50, return_sequences=False))
model.add(Dropout(0.2))
model.add(Dense(25))
model.add(Dense(1))
model.compile(optimizer='adam', loss='mean_squared_error')
model.fit(X, y, batch_size=1, epochs=10, verbose=1)

# Predict the next hour's vehicle count
last_sequence = target_scaled[-sequence_length:]
last_sequence = last_sequence.reshape((1, sequence_length, 1))
predicted = model.predict(last_sequence)
predicted_vehicles = scaler.inverse_transform(predicted)
print(f"Predicted vehicle count for the next hour: {predicted_vehicles[0][0]}")

# Genetic Algorithm for Traffic Light Optimization
def fitness_function(timings):
    wait_time = 0
    for i in range(len(timings)):
        wait_time += random.uniform(0, 10) * timings[i]  # Simplified wait time calculation
    return wait_time

def genetic_algorithm(population_size, generations, mutation_rate):
    population = np.random.randint(5, 60, size=(population_size, 4))  # 4 intersections
    for generation in range(generations):
        fitness_scores = np.array([fitness_function(individual) for individual in population])
        best_individuals = population[np.argsort(fitness_scores)[:population_size // 2]]
        offspring = []
        for parent in best_individuals:
            offspring.append(parent + np.random.normal(0, 2, size=parent.shape))  # Crossover
            if random.random() < mutation_rate:
                offspring[-1] += np.random.normal(0, 5, size=parent.shape)  # Mutation
        population = np.array(best_individuals.tolist() + offspring)
    return population[np.argmin([fitness_function(individual) for individual in population])]

optimized_timings = genetic_algorithm(population_size=10, generations=20, mutation_rate=0.1)
print(f"Optimized Traffic Light Timings: {optimized_timings}")

# Dijkstra’s Algorithm for Vehicle Rerouting
def dijkstra(graph, start):
    queue = [(0, start)]
    distances = {node: float('infinity') for node in graph}
    distances[start] = 0
    while queue:
        current_distance, current_node = heapq.heappop(queue)
        if current_distance > distances[current_node]:
            continue
        for neighbor, weight in graph[current_node].items():
            distance = current_distance + weight
            if distance < distances[neighbor]:
                distances[neighbor] = distance
                heapq.heappush(queue, (distance, neighbor))
    return distances

# Example graph representing road network
graph = {
    'A': {'B': 1, 'C': 4},
    'B': {'A': 1, 'C': 2, 'D': 5},
    'C': {'A': 4, 'B': 2, 'D': 1},
    'D': {'B': 5, 'C': 1}
}

# Find shortest paths from 'A' to all other nodes
distances = dijkstra(graph, 'A')
print(distances)
